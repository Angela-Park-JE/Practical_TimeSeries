{
 "cells": [
  {
   "cell_type": "markdown",
   "metadata": {},
   "source": [
    "# CH2. Finding and Handling Time series data\n",
    "_Practical Time Seriese Data Analysis 의 2장 4절. 번역이 매끄럽지 못한 부분은 이해하는 대로 약간의 의역을 담아 노트필기를 해본다._\n",
    "\n",
    "---\n",
    "\n",
    "# 2.4 데이터 정리:  \n",
    "---\n",
    "시계열 데이터의 다음과 같은 '일반적인 문제'를 다룬다.  \n",
    "\n",
    "    - 누락된 데이터(결측 데이터)\n",
    "    - 시계열의 빈도 변경(업샘플링, 다운샘플링)\n",
    "    - 데이터 평활\n",
    "    - 데이터의 계절적 변동 문제 해결\n",
    "    - 의도치 않은 사전관찰의 방지\n",
    "\n",
    "    \n",
    "\n",
    "## 2.4.1 누락된 데이터 다루기\n",
    "\n",
    "데이터 출처: 1948년부터 미국 정부가 발표한 월간 실업 자료 (http://data.bls.gov/timeseries/LNS14000000)\n",
    "\n",
    "데이터에서 둘 중 하나는 데이터를 임의로 누락한 것이고, 시계열 기록에서 실업이 가장 높은 월에 대한 두 데이터 셋을 생성한다.\n",
    "\n",
    "임의로 누락한 데이터와 일정하게 누락된 데이터에 대한 대치법이 어떻게 다른지 확인하고 적용하는 공부를 해본다.\n",
    "\n",
    "_교재에서는 R로 진행했다. R과 python으로 행렬 및 자료구조를 구현한 경험이 있다는 가정하에 진행한다고 한다. ~가혹하네~_\n"
   ]
  },
  {
   "cell_type": "markdown",
   "metadata": {},
   "source": [
    "## libraries and data load"
   ]
  },
  {
   "cell_type": "code",
   "execution_count": 1,
   "metadata": {
    "execution": {
     "iopub.execute_input": "2021-09-02T14:39:49.931441Z",
     "iopub.status.busy": "2021-09-02T14:39:49.930827Z",
     "iopub.status.idle": "2021-09-02T14:39:51.513586Z",
     "shell.execute_reply": "2021-09-02T14:39:51.513066Z"
    }
   },
   "outputs": [],
   "source": [
    "# 라이브러리 모셔오기\n",
    "\n",
    "from pathlib import Path\n",
    "import pandas as pd\n",
    "import numpy as np\n",
    "import seaborn as sns\n",
    "import matplotlib.pylab as plt"
   ]
  },
  {
   "cell_type": "code",
   "execution_count": null,
   "metadata": {},
   "outputs": [],
   "source": []
  }
 ],
 "metadata": {
  "kernelspec": {
   "display_name": "Python 3 (ipykernel)",
   "language": "python",
   "name": "python3"
  },
  "language_info": {
   "codemirror_mode": {
    "name": "ipython",
    "version": 3
   },
   "file_extension": ".py",
   "mimetype": "text/x-python",
   "name": "python",
   "nbconvert_exporter": "python",
   "pygments_lexer": "ipython3",
   "version": "3.8.5"
  },
  "toc": {
   "base_numbering": 1,
   "nav_menu": {},
   "number_sections": true,
   "sideBar": true,
   "skip_h1_title": false,
   "title_cell": "Table of Contents",
   "title_sidebar": "Contents",
   "toc_cell": false,
   "toc_position": {
    "height": "calc(100% - 180px)",
    "left": "10px",
    "top": "150px",
    "width": "360px"
   },
   "toc_section_display": true,
   "toc_window_display": true
  }
 },
 "nbformat": 4,
 "nbformat_minor": 2
}
